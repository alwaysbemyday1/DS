{
 "cells": [
  {
   "cell_type": "markdown",
   "id": "d956967e",
   "metadata": {},
   "source": [
    "Numpy\n",
    "NumPy는 행렬이나 일반적으로 대규모 다차원 배열을 쉽게 처리할 수 있도록 지원하는 파이썬의 라이브러리이다.\n",
    "NumPy는 데이터 구조 외에도 수치 계산을 위해 효율적으로 구현된 기능을 제공한다."
   ]
  },
  {
   "cell_type": "code",
   "execution_count": 3,
   "id": "e1f66318",
   "metadata": {},
   "outputs": [],
   "source": [
    "import numpy as np"
   ]
  },
  {
   "cell_type": "code",
   "execution_count": 8,
   "id": "80bfa072",
   "metadata": {},
   "outputs": [
    {
     "data": {
      "text/plain": [
       "array([1, 2, 2, 3])"
      ]
     },
     "execution_count": 8,
     "metadata": {},
     "output_type": "execute_result"
    }
   ],
   "source": [
    "array = np.array([1,2,2,3])\n",
    "array"
   ]
  },
  {
   "cell_type": "code",
   "execution_count": 9,
   "id": "d9cf6546",
   "metadata": {},
   "outputs": [
    {
     "data": {
      "text/plain": [
       "4"
      ]
     },
     "execution_count": 9,
     "metadata": {},
     "output_type": "execute_result"
    }
   ],
   "source": [
    "len(array)"
   ]
  },
  {
   "cell_type": "code",
   "execution_count": 10,
   "id": "da2a7760",
   "metadata": {},
   "outputs": [
    {
     "data": {
      "text/plain": [
       "3"
      ]
     },
     "execution_count": 10,
     "metadata": {},
     "output_type": "execute_result"
    }
   ],
   "source": [
    "len(np.unique(array))"
   ]
  },
  {
   "cell_type": "code",
   "execution_count": 16,
   "id": "72ad24cd",
   "metadata": {},
   "outputs": [
    {
     "name": "stdout",
     "output_type": "stream",
     "text": [
      "[ 4  8 12 16]\n"
     ]
    }
   ],
   "source": [
    "nums = np.arange(4,20,4)\n",
    "print(nums)"
   ]
  },
  {
   "cell_type": "code",
   "execution_count": 17,
   "id": "9ae6071c",
   "metadata": {},
   "outputs": [
    {
     "data": {
      "text/plain": [
       "array(['8의 배수 아님', '8의 배수', '8의 배수 아님', '8의 배수'], dtype='<U8')"
      ]
     },
     "execution_count": 17,
     "metadata": {},
     "output_type": "execute_result"
    }
   ],
   "source": [
    "np.where(nums%8==0,'8의 배수', '8의 배수 아님')"
   ]
  },
  {
   "cell_type": "code",
   "execution_count": null,
   "id": "6ba78b19",
   "metadata": {},
   "outputs": [],
   "source": []
  },
  {
   "cell_type": "markdown",
   "id": "a78f3d5e",
   "metadata": {},
   "source": [
    "Pandas\n",
    "Pandas는 python 파이썬 외부 공학용 라이브러리이다. (Numpy를 포함하고 기능을 추가로 더 붙인 라이브러리)\n",
    "데이터를 표 형태의 데이터프레임에 넣어서 쉽게 이용할 수 있게 해주는데, 쉽게 말해서 파이썬의 엑셀 같다.\n",
    "\n",
    "엑셀로도 가능하지만 대용량 처리를 할 때 속도가 아주 느리다.\n",
    "그리고 똑같은 작업을 반복해야 할 때 Pandas로 코딩을 해 놓으면 생산성이 훨씬 높다.\n",
    "\n",
    "머신러닝을 하기 위해 데이터 전처리 과정이 전체 과정의 70%, 나머지가 머신 러닝에 사용된다. 엑셀에 데이터를 받아서 정제하고 쪼개는 일을 할 때 사람이 일일이 하는 것보다 기계가 하면 인력이나 시간이 적게 들어갈 수 있다."
   ]
  },
  {
   "cell_type": "code",
   "execution_count": 19,
   "id": "d031c372",
   "metadata": {},
   "outputs": [],
   "source": [
    "import pandas as pd"
   ]
  },
  {
   "cell_type": "code",
   "execution_count": 24,
   "id": "5b02f1d2",
   "metadata": {},
   "outputs": [
    {
     "name": "stdout",
     "output_type": "stream",
     "text": [
      "RangeIndex(start=0, stop=3, step=1)\n",
      "[1 2 3]\n"
     ]
    }
   ],
   "source": [
    "ser = pd.Series([1,2,3])\n",
    "print(ser.index)\n",
    "print(ser.values)"
   ]
  },
  {
   "cell_type": "code",
   "execution_count": 27,
   "id": "741bb979",
   "metadata": {},
   "outputs": [
    {
     "name": "stdout",
     "output_type": "stream",
     "text": [
      "a    1\n",
      "b    2\n",
      "c    3\n",
      "dtype: int64\n"
     ]
    }
   ],
   "source": [
    "i_ser = pd.Series([1,2,3], index=['a', 'b', 'c'])\n",
    "print(i_ser)"
   ]
  },
  {
   "cell_type": "code",
   "execution_count": 29,
   "id": "0fa01458",
   "metadata": {},
   "outputs": [
    {
     "data": {
      "text/plain": [
       "<IntegerArray>\n",
       "[3, 6, 9]\n",
       "Length: 3, dtype: Int64"
      ]
     },
     "execution_count": 29,
     "metadata": {},
     "output_type": "execute_result"
    }
   ],
   "source": [
    "a1=pd.array([1,2,3])\n",
    "a2=pd.array([2,4,6])\n",
    "a1+a2"
   ]
  },
  {
   "cell_type": "code",
   "execution_count": 41,
   "id": "77cf7bd8",
   "metadata": {},
   "outputs": [
    {
     "name": "stdout",
     "output_type": "stream",
     "text": [
      "합계: 25\n",
      "최소값: 0\n",
      "최대값: 10\n",
      "평균: 5.0\n",
      "표준편차: 3.5355339059327378\n",
      "왜도: 0.0\n",
      "첨도: 2.0\n",
      "고유값: [ 0  5 10]\n",
      "최소값 위치: 0\n",
      "최대값 위치: 4\n",
      "포함여부 검사: 0     True\n",
      "1    False\n",
      "2    False\n",
      "3    False\n",
      "4     True\n",
      "dtype: bool\n",
      "포함 개수: 2\n"
     ]
    }
   ],
   "source": [
    "# Series Method\n",
    "ser = pd.Series([0,5,5,5,10])\n",
    "print(f'합계: {ser.sum()}')\n",
    "print(f'최소값: {ser.min()}')\n",
    "print(f'최대값: {ser.max()}')\n",
    "print(f'평균: {ser.mean()}')\n",
    "print(f'표준편차: {ser.std()}')\n",
    "print(f'왜도: {ser.skew()}')\n",
    "print(f'첨도: {ser.kurt()}')\n",
    "print(f'고유값: {ser.unique()}')\n",
    "print(f'최소값 위치: {ser.idxmin()}')\n",
    "print(f'최대값 위치: {ser.idxmax()}')\n",
    "print(f'포함여부 검사: {ser.isin([0,6,10])}')\n",
    "print(f'포함 개수: {ser.isin([0,6,10]).sum()}')"
   ]
  },
  {
   "cell_type": "code",
   "execution_count": 80,
   "id": "9ef7408b",
   "metadata": {},
   "outputs": [
    {
     "name": "stdout",
     "output_type": "stream",
     "text": [
      "데이터프레임: \n",
      "   aa  bb  cc\n",
      "0   1   2   3\n",
      "1   2   3   4\n",
      "2   3   4   5\n",
      "3   4   5   6\n",
      "4   1   2   3\n",
      "\n",
      "정수 기반 인덱싱: \n",
      "   aa  bb  cc\n",
      "0   1   2   3\n",
      "1   2   3   4\n",
      "2   3   4   5\n",
      "\n",
      "정수 기반 인덱싱(열 설정): \n",
      "   aa  bb\n",
      "0   1   2\n",
      "1   2   3\n",
      "2   3   4\n",
      "\n",
      "문자열 기반 인덱싱: \n",
      "   aa  bb  cc\n",
      "0   1   2   3\n",
      "1   2   3   4\n",
      "2   3   4   5\n",
      "3   4   5   6\n",
      "\n",
      "문자열 인덱싱(열 설정): \n",
      "   aa  cc\n",
      "0   1   3\n",
      "1   2   4\n",
      "2   3   5\n",
      "3   4   6\n",
      "4   1   3\n",
      "\n",
      "빈도표: \n",
      "cc  3  4  5  6\n",
      "aa            \n",
      "1   2  0  0  0\n",
      "2   0  1  0  0\n",
      "3   0  0  1  0\n",
      "4   0  0  0  1\n",
      "\n",
      "특정변수 기준 요약연산: \n",
      "aa\n",
      "1    4\n",
      "2    3\n",
      "3    4\n",
      "4    5\n",
      "Name: bb, dtype: int64\n",
      "\n"
     ]
    }
   ],
   "source": [
    "# DataFrame (Pandas의 2차원 객체)\n",
    "df = pd.DataFrame({\"aa\": [1,2,3,4,1], \"bb\": [2,3,4,5,2], \"cc\": [3,4,5,6,3]})\n",
    "print(f'데이터프레임: \\n{df}\\n')\n",
    "print(f'정수 기반 인덱싱: \\n{df.iloc[:3]}\\n')\n",
    "print(f'정수 기반 인덱싱(열 설정): \\n{df.iloc[:3,:2]}\\n')\n",
    "print(f'문자열 기반 인덱싱: \\n{df.loc[:3]}\\n')\n",
    "print(f'문자열 인덱싱(열 설정): \\n{df.loc[:,\"aa\"::2]}\\n')\n",
    "print(f'빈도표: \\n{pd.crosstab(df[\"aa\"],df[\"cc\"])}\\n')\n",
    "print(f'특정변수 기준 요약연산: \\n{df.groupby(\"aa\")[\"bb\"].sum()}\\n')"
   ]
  }
 ],
 "metadata": {
  "kernelspec": {
   "display_name": "Python 3 (ipykernel)",
   "language": "python",
   "name": "python3"
  },
  "language_info": {
   "codemirror_mode": {
    "name": "ipython",
    "version": 3
   },
   "file_extension": ".py",
   "mimetype": "text/x-python",
   "name": "python",
   "nbconvert_exporter": "python",
   "pygments_lexer": "ipython3",
   "version": "3.11.5"
  }
 },
 "nbformat": 4,
 "nbformat_minor": 5
}
