{
 "cells": [
  {
   "cell_type": "markdown",
   "id": "ca934841",
   "metadata": {},
   "source": [
    "## KNN\n",
    "\n",
    "### KNN 분류(Classification)\n",
    "새로운 값은 기존의 데이터를 기준으로 k개의 최근접 값을 기준으로 분류됨\n",
    "\n",
    "동률 문제로 짝수는 되도록 피하는 것이 좋음\n",
    "\n",
    "k가 1에 가까울수록 과적합, k가 클수록 과소적합이므로 적절한 k값 선정 필요\n",
    "\n",
    "### KNN 회귀(Regression)\n",
    "기본 개념은 분류모델과 같으며 k개의 인접한 자료의 (가중)평균으로 예측\n",
    "\n",
    "#### sklearn - KNeighborsClassifier()\n",
    "KNN 분류모델을 학습하기 위한 sklearn 함수\n",
    "\n",
    "n_neighbors 인자에 학습 시 고려할 이웃 데이터의 개수를 지정\n",
    "\n",
    "KNeighborsClassifier() 함수의 fit() 메서드에 독립변수와 종속변수 할당\n",
    "\n",
    "#### sklearn - KNeighborsRegressor()\n",
    "KNN 회귀모델을 학습하기 위한 sklearn 함수"
   ]
  },
  {
   "cell_type": "code",
   "execution_count": 1,
   "id": "b566d36b",
   "metadata": {},
   "outputs": [
    {
     "name": "stdout",
     "output_type": "stream",
     "text": [
      "1.0\n",
      "0.4475333333333333\n"
     ]
    }
   ],
   "source": [
    "import pandas as pd\n",
    "from sklearn.neighbors import KNeighborsClassifier\n",
    "from sklearn.neighbors import KNeighborsRegressor\n",
    "from sklearn.metrics import accuracy_score\n",
    "from sklearn.metrics import mean_squared_error as mse\n",
    "\n",
    "df = pd.read_csv('ex/iris.csv')\n",
    "df['is_setosa'] = (df['Species'] == 'setosa') + 0\n",
    "df.head(2)\n",
    "\n",
    "# Classifier\n",
    "model_c = KNeighborsClassifier(n_neighbors=3).fit(X=df.iloc[:,:4], y=df['is_setosa'])\n",
    "pred_c = model_c.predict(df.iloc[:,:4])\n",
    "acc_c = accuracy_score(y_true=df['is_setosa'], y_pred=(pred_c > 0.9) + 0)\n",
    "print(acc_c)\n",
    "\n",
    "# Regressor\n",
    "model_r = KNeighborsRegressor(n_neighbors=3).fit(X=df.iloc[:,:3], y=df['Petal.Width'])\n",
    "pred_r = model_r.predict(df.iloc[:,:3])\n",
    "# 연속형이라 accuracy, precision, recall, f1_score 사용 불가\n",
    "# MSE, RMSE, MAE,,, 사용\n",
    "mse_r = mse(y_true=df['Petal.Width'], y_pred=(pred_r > 0.9) + 0)\n",
    "print(mse_r)"
   ]
  },
  {
   "cell_type": "code",
   "execution_count": 2,
   "id": "a3927cae",
   "metadata": {},
   "outputs": [
    {
     "name": "stdout",
     "output_type": "stream",
     "text": [
      "0.7174721189591078\n"
     ]
    }
   ],
   "source": [
    "# 당뇨 발생 여부를 예측하기 위해 임신 횟수, 혈당, 혈압을 사용할 경우의 정확도\n",
    "import pandas as pd\n",
    "from sklearn.neighbors import KNeighborsClassifier\n",
    "from sklearn.model_selection import train_test_split\n",
    "from sklearn.metrics import accuracy_score\n",
    "\n",
    "df = pd.read_csv('ex/diabetes.csv')\n",
    "\n",
    "train_df, test_df = train_test_split(df, test_size=0.7, random_state=123)\n",
    "model = KNeighborsClassifier().fit(X=train_df[['Pregnancies', 'Glucose', 'BloodPressure']], y=train_df['Outcome'])\n",
    "pred = model.predict(test_df[['Pregnancies', 'Glucose', 'BloodPressure']])\n",
    "acc = accuracy_score(y_true=test_df['Outcome'], y_pred=(pred > 0.5) + 0)\n",
    "print(acc)"
   ]
  }
 ],
 "metadata": {
  "kernelspec": {
   "display_name": "Python 3 (ipykernel)",
   "language": "python",
   "name": "python3"
  },
  "language_info": {
   "codemirror_mode": {
    "name": "ipython",
    "version": 3
   },
   "file_extension": ".py",
   "mimetype": "text/x-python",
   "name": "python",
   "nbconvert_exporter": "python",
   "pygments_lexer": "ipython3",
   "version": "3.11.5"
  }
 },
 "nbformat": 4,
 "nbformat_minor": 5
}
