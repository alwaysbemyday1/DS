{
 "cells": [
  {
   "cell_type": "code",
   "execution_count": 34,
   "id": "1fe3b3f6",
   "metadata": {},
   "outputs": [],
   "source": [
    "import pandas as pd\n",
    "import numpy as np"
   ]
  },
  {
   "cell_type": "code",
   "execution_count": 3,
   "id": "1055b90e",
   "metadata": {},
   "outputs": [],
   "source": [
    "def udf_sum(x,y):\n",
    "    result = x + y\n",
    "    return result"
   ]
  },
  {
   "cell_type": "code",
   "execution_count": 5,
   "id": "2292259a",
   "metadata": {},
   "outputs": [
    {
     "data": {
      "text/plain": [
       "6"
      ]
     },
     "execution_count": 5,
     "metadata": {},
     "output_type": "execute_result"
    }
   ],
   "source": [
    "udf_sum(2,4)"
   ]
  },
  {
   "cell_type": "code",
   "execution_count": 12,
   "id": "5fa50c5c",
   "metadata": {},
   "outputs": [
    {
     "data": {
      "text/plain": [
       "0     6\n",
       "1     8\n",
       "2    10\n",
       "dtype: int64"
      ]
     },
     "execution_count": 12,
     "metadata": {},
     "output_type": "execute_result"
    }
   ],
   "source": [
    "udf_sum(pd.Series([2,4,6]),4).reset_index(drop=True)"
   ]
  },
  {
   "cell_type": "code",
   "execution_count": 13,
   "id": "18017d57",
   "metadata": {},
   "outputs": [],
   "source": [
    "def udf_sum2(x,y):\n",
    "    result = x.sum() + y\n",
    "    return result"
   ]
  },
  {
   "cell_type": "code",
   "execution_count": 15,
   "id": "10049cc9",
   "metadata": {},
   "outputs": [
    {
     "data": {
      "text/plain": [
       "16"
      ]
     },
     "execution_count": 15,
     "metadata": {},
     "output_type": "execute_result"
    }
   ],
   "source": [
    "udf_sum(pd.Series([2,4,6]),4)"
   ]
  },
  {
   "cell_type": "code",
   "execution_count": 16,
   "id": "30dbb217",
   "metadata": {},
   "outputs": [],
   "source": [
    "def udf_mean(x):\n",
    "    result = round(x.mean(), 3)\n",
    "    return result"
   ]
  },
  {
   "cell_type": "code",
   "execution_count": 20,
   "id": "1ee5c5d9",
   "metadata": {},
   "outputs": [
    {
     "data": {
      "text/plain": [
       "6.289"
      ]
     },
     "execution_count": 20,
     "metadata": {},
     "output_type": "execute_result"
    }
   ],
   "source": [
    "udf_mean(pd.Series([4,6,8,19,0.215505,0.51772]))"
   ]
  },
  {
   "cell_type": "code",
   "execution_count": 25,
   "id": "d11057b8",
   "metadata": {},
   "outputs": [],
   "source": [
    "def udf_mean2(x, digit=3):\n",
    "    result = round(x.mean(), digit)\n",
    "    return result"
   ]
  },
  {
   "cell_type": "code",
   "execution_count": 27,
   "id": "73322bc1",
   "metadata": {},
   "outputs": [
    {
     "data": {
      "text/plain": [
       "6.28887"
      ]
     },
     "execution_count": 27,
     "metadata": {},
     "output_type": "execute_result"
    }
   ],
   "source": [
    "udf_mean2(pd.Series([4,6,8,19,0.215505,0.51772]), 5)"
   ]
  },
  {
   "cell_type": "code",
   "execution_count": null,
   "id": "ec6616bd",
   "metadata": {},
   "outputs": [],
   "source": []
  },
  {
   "cell_type": "code",
   "execution_count": 39,
   "id": "b4907036",
   "metadata": {},
   "outputs": [],
   "source": [
    "def q1_1(input):\n",
    "    return round(np.sqrt(np.square(input).sum()), 2)"
   ]
  },
  {
   "cell_type": "code",
   "execution_count": 41,
   "id": "f37277f0",
   "metadata": {},
   "outputs": [
    {
     "data": {
      "text/plain": [
       "22.69"
      ]
     },
     "execution_count": 41,
     "metadata": {},
     "output_type": "execute_result"
    }
   ],
   "source": [
    "q1_1(pd.Series([3,5,9,20]))"
   ]
  },
  {
   "cell_type": "code",
   "execution_count": null,
   "id": "f0212fad",
   "metadata": {},
   "outputs": [],
   "source": []
  },
  {
   "cell_type": "code",
   "execution_count": 42,
   "id": "82080d12",
   "metadata": {},
   "outputs": [],
   "source": [
    "def q1_2(input):\n",
    "    return input.pow(2).sum() ** 0.5"
   ]
  },
  {
   "cell_type": "code",
   "execution_count": 43,
   "id": "102ebc08",
   "metadata": {},
   "outputs": [
    {
     "data": {
      "text/plain": [
       "22.693611435820433"
      ]
     },
     "execution_count": 43,
     "metadata": {},
     "output_type": "execute_result"
    }
   ],
   "source": [
    "q1_2(pd.Series([3,5,9,20]))"
   ]
  },
  {
   "cell_type": "code",
   "execution_count": null,
   "id": "965e9f92",
   "metadata": {},
   "outputs": [],
   "source": []
  },
  {
   "cell_type": "code",
   "execution_count": 44,
   "id": "c1ae4c73",
   "metadata": {},
   "outputs": [],
   "source": [
    " # 표준화\n",
    "def Standardization(x, i):\n",
    "    mean_x = x.mean() # 평균\n",
    "    std_x = x.std() # 표준편차\n",
    "    result = (i - mean_x) / std_x\n",
    "    return result"
   ]
  },
  {
   "cell_type": "code",
   "execution_count": 46,
   "id": "20e4c68c",
   "metadata": {},
   "outputs": [
    {
     "data": {
      "text/plain": [
       "0.4793191373636546"
      ]
     },
     "execution_count": 46,
     "metadata": {},
     "output_type": "execute_result"
    }
   ],
   "source": [
    "Standardization(pd.Series([-4,5,7,9]), 7)"
   ]
  },
  {
   "cell_type": "code",
   "execution_count": null,
   "id": "6ccb9286",
   "metadata": {},
   "outputs": [],
   "source": []
  },
  {
   "cell_type": "code",
   "execution_count": 56,
   "id": "426f817a",
   "metadata": {},
   "outputs": [],
   "source": [
    "# 정규화 by MinMax\n",
    "def MinMax(x, i): \n",
    "    max_x = x.max()\n",
    "    min_x = x.min()\n",
    "    result = round((i - min_x) / (max_x - min_x), 2)\n",
    "    return result"
   ]
  },
  {
   "cell_type": "code",
   "execution_count": 57,
   "id": "7c5dc39b",
   "metadata": {},
   "outputs": [
    {
     "data": {
      "text/plain": [
       "0.85"
      ]
     },
     "execution_count": 57,
     "metadata": {},
     "output_type": "execute_result"
    }
   ],
   "source": [
    "MinMax(pd.Series([-4,5,7,9]), 7)"
   ]
  }
 ],
 "metadata": {
  "kernelspec": {
   "display_name": "Python 3 (ipykernel)",
   "language": "python",
   "name": "python3"
  },
  "language_info": {
   "codemirror_mode": {
    "name": "ipython",
    "version": 3
   },
   "file_extension": ".py",
   "mimetype": "text/x-python",
   "name": "python",
   "nbconvert_exporter": "python",
   "pygments_lexer": "ipython3",
   "version": "3.11.5"
  }
 },
 "nbformat": 4,
 "nbformat_minor": 5
}
