{
 "cells": [
  {
   "cell_type": "markdown",
   "id": "169e82ee",
   "metadata": {},
   "source": [
    "## 나이브 베이즈\n",
    "### 나이브 베이즈 분류기 특징\n",
    "사전 확률 및 추가 정보를 기반으로 사후 확률을 추론하는 통계적 방법인 베이즈 추정 기반 분류\n",
    "\n",
    "종속변수 각 범주의 등장 빈도인 사전확률(prior) 설정이 중요\n",
    "\n",
    "각 데이터의 사전 확률을 기반으로 사후확률(posterior)을 계산\n",
    "\n",
    "\n",
    "#### sklearn - GaussianNB()\n",
    "나이브베이즈 분류 모델을 위한 sklearn의 함수\n",
    "\n",
    "독립변수와 종속변수는 GaussianNB() 함수의 메서드인 fit() 함수에 할당\n",
    "\n",
    "모델 객체의 predict_proba() 메서드로 예측 확률값을 생산\n",
    "\n",
    "이진 분류의 경우 출력된 예측 확률값의 두 번째 열이 1이 될 확률"
   ]
  },
  {
   "cell_type": "code",
   "execution_count": 1,
   "id": "f7543df2",
   "metadata": {},
   "outputs": [],
   "source": [
    "import pandas as pd\n",
    "from sklearn.naive_bayes import GaussianNB\n",
    "\n",
    "df = pd.read_csv('ex/iris.csv')\n",
    "df['is_setosa'] = (df['Species'] == 'setosa') + 0\n",
    "df.groupby('Species').head(2)\n",
    "\n",
    "# Prior(사전확률)\n",
    "df['is_setosa'].value_counts()\n",
    "df['is_setosa'].value_counts(normalize=True).reset_index()\n",
    "\n",
    "model = GaussianNB().fit(X=df.iloc[:,:4], y=df['is_setosa'])\n",
    "\n",
    "model.class_prior_ # 종속변수 사전확률\n",
    "model.theta_ # Logistic Regression의 계수\n",
    "\n",
    "pred = model.predict_proba(df.iloc[:,:4])\n",
    "pred = pred[:,1]"
   ]
  },
  {
   "cell_type": "code",
   "execution_count": 2,
   "id": "dbc0bd3a",
   "metadata": {},
   "outputs": [
    {
     "data": {
      "text/plain": [
       "1.0"
      ]
     },
     "execution_count": 2,
     "metadata": {},
     "output_type": "execute_result"
    }
   ],
   "source": [
    "from sklearn.metrics import accuracy_score\n",
    "\n",
    "pred_class = (pred > 0.9) + 0\n",
    "accuracy_score(y_true = df['is_setosa'], y_pred = pred_class)"
   ]
  },
  {
   "cell_type": "code",
   "execution_count": 3,
   "id": "2295c49f",
   "metadata": {},
   "outputs": [
    {
     "data": {
      "text/plain": [
       "array([0.64861295, 0.35138705])"
      ]
     },
     "execution_count": 3,
     "metadata": {},
     "output_type": "execute_result"
    }
   ],
   "source": [
    "# BMI가 0 초과인 데이터만 사용하여 나이브 베이즈 분류를 실시하고자 한다\n",
    "# Outcome은 종속변수로 하고 나머지 변수를 독립변수로 할 때 종속변수의 사전확률은?\n",
    "import pandas as pd\n",
    "from sklearn.naive_bayes import GaussianNB\n",
    "\n",
    "df = pd.read_csv('ex/diabetes.csv')\n",
    "df = df[df['BMI'] > 0]\n",
    "df.iloc[:,:-1]\n",
    "\n",
    "model = GaussianNB().fit(X=df.iloc[:,:-1], y=df['Outcome'])\n",
    "model.class_prior_"
   ]
  },
  {
   "cell_type": "code",
   "execution_count": 4,
   "id": "d30d4c42",
   "metadata": {},
   "outputs": [
    {
     "data": {
      "text/plain": [
       "0.7552083333333334"
      ]
     },
     "execution_count": 4,
     "metadata": {},
     "output_type": "execute_result"
    }
   ],
   "source": [
    "# 혈당, 혈압, 나이를 독립변수로 하고 당뇨 발병 여부를 종속변수로 했을 때 그 정확도는 얼마인가?\n",
    "import pandas as pd\n",
    "from sklearn.naive_bayes import GaussianNB\n",
    "from sklearn.metrics import accuracy_score\n",
    "\n",
    "df = pd.read_csv('ex/diabetes.csv')\n",
    "\n",
    "model = GaussianNB().fit(X=df[['Glucose', 'BloodPressure', 'Age']], y=df['Outcome'])\n",
    "pred = model.predict_proba(df[['Glucose', 'BloodPressure', 'Age']])\n",
    "\n",
    "pred_class = (pred[:,1] > 0.5) + 0\n",
    "accuracy_score(y_true=df['Outcome'][:], y_pred = pred_class)"
   ]
  },
  {
   "cell_type": "code",
   "execution_count": 5,
   "id": "1ede9134",
   "metadata": {},
   "outputs": [
    {
     "name": "stdout",
     "output_type": "stream",
     "text": [
      "0.768976897689769\n",
      "0.7557755775577558\n"
     ]
    }
   ],
   "source": [
    "# 임신여부, 연령대, BMI, 혈당을 독립변수로 하고 당뇨 발병 여부를 종속변수로 했을 때\n",
    "# 나이브 베이즈와 로지스틱 회귀 분석을 실시하고 둘 중 정확도가 높은 모델의 정확도는?\n",
    "import pandas as pd\n",
    "from sklearn.naive_bayes import GaussianNB\n",
    "from sklearn.linear_model import LogisticRegression\n",
    "from sklearn.model_selection import train_test_split\n",
    "from sklearn.metrics import accuracy_score\n",
    "\n",
    "df = pd.read_csv('ex/diabetes.csv')\n",
    "df = df[df['BMI'] > 0]\n",
    "df['is_preg'] = (df['Pregnancies'] > 0) + 0\n",
    "df['AgeScale'] = (df['Age'].astype(int) // 10) * 10\n",
    "df.head(2)\n",
    "\n",
    "train_df, test_df = train_test_split(df, test_size=0.8, random_state=123)\n",
    "\n",
    "# Logistic Regression\n",
    "reg = LogisticRegression()\n",
    "reg_model = reg.fit(X=train_df[['is_preg', 'AgeScale', 'BMI', 'Glucose']], y=train_df['Outcome'])\n",
    "reg_pred = reg_model.predict_proba(test_df[['is_preg', 'AgeScale', 'BMI', 'Glucose']])\n",
    "reg_pred_class = (reg_pred[:,1] > 0.5) + 0\n",
    "reg_accuracy = accuracy_score(y_true=test_df['Outcome'], y_pred=reg_pred_class)\n",
    "print(reg_accuracy)\n",
    "\n",
    "# Naive Bayes\n",
    "nb_model = GaussianNB().fit(X=train_df[['is_preg', 'AgeScale', 'BMI', 'Glucose']], y=train_df['Outcome'])\n",
    "nb_pred = nb_model.predict_proba(test_df[['is_preg', 'AgeScale', 'BMI', 'Glucose']])\n",
    "nb_pred_class = (nb_pred[:,1] > 0.5) + 0\n",
    "nb_accuracy = accuracy_score(y_true=test_df['Outcome'], y_pred=nb_pred_class)\n",
    "print(nb_accuracy)"
   ]
  },
  {
   "cell_type": "code",
   "execution_count": null,
   "id": "0e40520a",
   "metadata": {},
   "outputs": [],
   "source": []
  }
 ],
 "metadata": {
  "kernelspec": {
   "display_name": "Python 3 (ipykernel)",
   "language": "python",
   "name": "python3"
  },
  "language_info": {
   "codemirror_mode": {
    "name": "ipython",
    "version": 3
   },
   "file_extension": ".py",
   "mimetype": "text/x-python",
   "name": "python",
   "nbconvert_exporter": "python",
   "pygments_lexer": "ipython3",
   "version": "3.11.5"
  }
 },
 "nbformat": 4,
 "nbformat_minor": 5
}
